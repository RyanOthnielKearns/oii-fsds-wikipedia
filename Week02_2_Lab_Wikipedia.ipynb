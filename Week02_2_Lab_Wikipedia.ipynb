{
 "cells": [
  {
   "cell_type": "markdown",
   "metadata": {},
   "source": []
  },
  {
   "cell_type": "markdown",
   "metadata": {},
   "source": [
    "# Fundamentals of Social Data Science \n",
    "## Week 2 Day 2 Lab: Downloading to Wikipedia\n",
    "\n",
    "Today we will review some changes to the Wikipedia code. These changes will considerably alter what you are able to do with this code. The end result will be a set of two folders, `data` and `dataframes` which you can use for analysis of Wikipedia. \n",
    "\n",
    "The code has now been altered on my end in several ways: \n",
    "- use and report curl from special export to get a complete history of a page. \n",
    "- considerably expanded reporting and commenting.\n",
    "- new arguments available to the script include --count_only \n",
    "\n",
    "There is also now a second script available `xml_to_dataframe.py` which can be used to then process these files and turn them into separate DataFrames. These DataFrames are stored as .feather files and can be loaded with the code below. \n",
    "\n",
    "You should review the `xml_to_dataframe.py` file as all the operations within that file have been covered in class with the exception of TQDM but you can see how that works in practice. \n",
    "\n",
    "You will note that this version does not use recursion to count the files. Instead it more literally looks within year and month. This is sufficient for this work, but with a deeper folder structure and one where the structure is less certain this approach would not be robust. On the other hand, by assuming year and month it allows for some interesting statistics about the year and month to be displayed. In your own work you may now consider whether to approach a task with a more general but often more abstract solution or a more specific but often more fragile solution. You can see in Jon's solution that he used a clever way to simply count all the files using a global and letting the global handle the recursion (`download_and_count_revisions_solution.py`).\n",
    "\n",
    "You should now be able to download a complete history for a single wikipedia page and process that as a DataFrame. Confirm that you can do this with the code yourself. Then discuss among your group:\n",
    "1. Which two (or more) public figures are worth comparing and why. \n",
    "2. Prior to any specific time series analysis, consider your expectations for this exploratory comparison.  \n",
    "\n",
    "Draw upon your group's potential expertise in social science to come up with a theoretically informed rationale for a given comparison. "
   ]
  },
  {
   "cell_type": "markdown",
   "metadata": {},
   "source": [
    "## Merging in Changes to a Repository \n",
    "\n",
    "First you will want to merge files from an upstream branch (mine). These instructions will show how to do that from the terminal. You will want to be in the oii-fsds-wikipedia folder when entering these commands. Note especially **Step 3**. If you do this it will overwrite `download_wiki_revisions.py` so consider making a backup. \n",
    "\n",
    "1. **Add the original repository as a remote:**\n",
    "   ```sh\n",
    "   git remote add upstream https://github.com/berniehogan/oii-fsds-wikipedia.git\n",
    "   ```\n",
    "\n",
    "2. **Fetch the changes from the original repository:**\n",
    "   ```sh\n",
    "   git fetch upstream\n",
    "   ```\n",
    "\n",
    "3. **Backup any local changes:**\n",
    "   If you have your own versions of files like `download_wiki_revisions.py`, you should rename the file first to avoid conflicts:\n",
    "   ```sh\n",
    "   mv download_wiki_revisions.py download_wiki_revisions_backup.py\n",
    "   ```\n",
    "\n",
    "4. **Merge upstream changes into your local main branch:**\n",
    "   ```sh\n",
    "   git merge upstream/main\n",
    "   ```\n",
    "\n",
    "5. **Resolve any conflicts and commit the changes:**\n",
    "   You should resolve any conflicts that arise during the merge and then commit the changes:\n",
    "   ```sh\n",
    "   git add .\n",
    "   git commit -m \"Merge changes from upstream\"\n",
    "   ```\n",
    "\n",
    "6. **Push the changes to your GitHub repository:**\n",
    "   ```sh\n",
    "   git push origin main\n",
    "   ```\n",
    "\n",
    "7. **Test your code after merging:**\n",
    "   You should test your code to ensure everything works correctly after the integration.\n",
    "\n",
    "By following these steps, you should be able to integrate the latest changes from my repository while preserving your own custom modifications."
   ]
  },
  {
   "cell_type": "markdown",
   "metadata": {},
   "source": [
    "Once this is done, you can use the script below if you wish in order to run the commands directly within a Jupyter notebook rather than via that terminal. "
   ]
  },
  {
   "cell_type": "code",
   "execution_count": 3,
   "metadata": {},
   "outputs": [],
   "source": [
    "import os\n",
    "import pandas as pd\n",
    "\n",
    "# # Define articles we want to download\n",
    "# article1 = \"Liz_Truss\"\n",
    "# article2 = \"Liz_Truss_lettuce\"\n",
    "\n",
    "# # Create necessary directories if they don't exist\n",
    "# os.makedirs(\"data\", exist_ok=True)\n",
    "# os.makedirs(\"DataFrames\", exist_ok=True)\n",
    "\n",
    "# # Download revisions for both articles\n",
    "# print(\"Downloading revisions for first article...\")\n",
    "# os.system(f'python download_wiki_revisions.py \"{article1}\"')\n",
    "# print(\"\\nDownloading revisions for second article...\")\n",
    "# os.system(f'python download_wiki_revisions.py \"{article2}\"')\n",
    "\n",
    "# # Convert all downloaded revisions to DataFrames\n",
    "# print(\"\\nConverting revisions to DataFrames...\")\n",
    "# os.system('python xml_to_dataframe.py --data-dir ./data --output-dir ./DataFrames')\n",
    "\n",
    "# # Load and verify one of the DataFrames\n",
    "# print(\"\\nVerifying DataFrame contents...\")\n",
    "# df = pd.read_feather(f\"DataFrames/{article1}.feather\")\n",
    "\n",
    "# # Display basic information about the DataFrame\n",
    "# print(\"\\nDataFrame Info:\")\n",
    "# print(df.info())\n",
    "\n",
    "# print(\"\\nFirst few rows:\")\n",
    "# print(df.head())\n",
    "\n",
    "# # Display some basic statistics\n",
    "# print(\"\\nBasic statistics:\")\n",
    "# print(f\"Total number of revisions: {len(df)}\")\n",
    "# print(f\"Date range: from {df['timestamp'].min()} to {df['timestamp'].max()}\")\n",
    "# print(f\"Number of unique editors: {df['username'].nunique()}\")"
   ]
  },
  {
   "cell_type": "code",
   "execution_count": 4,
   "metadata": {},
   "outputs": [
    {
     "ename": "NameError",
     "evalue": "name 'df' is not defined",
     "output_type": "error",
     "traceback": [
      "\u001b[0;31m---------------------------------------------------------------------------\u001b[0m",
      "\u001b[0;31mNameError\u001b[0m                                 Traceback (most recent call last)",
      "Cell \u001b[0;32mIn[4], line 1\u001b[0m\n\u001b[0;32m----> 1\u001b[0m \u001b[43mdf\u001b[49m\n",
      "\u001b[0;31mNameError\u001b[0m: name 'df' is not defined"
     ]
    }
   ],
   "source": [
    "df"
   ]
  },
  {
   "cell_type": "code",
   "execution_count": 5,
   "metadata": {},
   "outputs": [],
   "source": [
    "liz = pd.read_feather(\"DataFrames/Liz_Truss.feather\")"
   ]
  },
  {
   "cell_type": "code",
   "execution_count": 6,
   "metadata": {},
   "outputs": [],
   "source": [
    "lettuce = pd.read_feather(\"DataFrames/Liz_Truss_lettuce.feather\")"
   ]
  },
  {
   "cell_type": "code",
   "execution_count": 7,
   "metadata": {},
   "outputs": [
    {
     "data": {
      "text/plain": [
       "4507"
      ]
     },
     "execution_count": 7,
     "metadata": {},
     "output_type": "execute_result"
    }
   ],
   "source": [
    "len(liz)"
   ]
  },
  {
   "cell_type": "code",
   "execution_count": 8,
   "metadata": {},
   "outputs": [
    {
     "data": {
      "text/plain": [
       "351"
      ]
     },
     "execution_count": 8,
     "metadata": {},
     "output_type": "execute_result"
    }
   ],
   "source": [
    "len(lettuce)"
   ]
  },
  {
   "cell_type": "code",
   "execution_count": 9,
   "metadata": {},
   "outputs": [
    {
     "data": {
      "text/html": [
       "<div>\n",
       "<style scoped>\n",
       "    .dataframe tbody tr th:only-of-type {\n",
       "        vertical-align: middle;\n",
       "    }\n",
       "\n",
       "    .dataframe tbody tr th {\n",
       "        vertical-align: top;\n",
       "    }\n",
       "\n",
       "    .dataframe thead th {\n",
       "        text-align: right;\n",
       "    }\n",
       "</style>\n",
       "<table border=\"1\" class=\"dataframe\">\n",
       "  <thead>\n",
       "    <tr style=\"text-align: right;\">\n",
       "      <th></th>\n",
       "      <th>revision_id</th>\n",
       "      <th>timestamp</th>\n",
       "      <th>username</th>\n",
       "      <th>userid</th>\n",
       "      <th>comment</th>\n",
       "      <th>text_length</th>\n",
       "      <th>year</th>\n",
       "      <th>month</th>\n",
       "    </tr>\n",
       "  </thead>\n",
       "  <tbody>\n",
       "    <tr>\n",
       "      <th>2522</th>\n",
       "      <td>1253353646</td>\n",
       "      <td>2024-10-25 14:54:55+00:00</td>\n",
       "      <td>Rfl0216</td>\n",
       "      <td>27738727</td>\n",
       "      <td>/* News */</td>\n",
       "      <td>160213</td>\n",
       "      <td>2024</td>\n",
       "      <td>10</td>\n",
       "    </tr>\n",
       "    <tr>\n",
       "      <th>2508</th>\n",
       "      <td>1253353474</td>\n",
       "      <td>2024-10-25 14:53:59+00:00</td>\n",
       "      <td>Rfl0216</td>\n",
       "      <td>27738727</td>\n",
       "      <td>/* News */</td>\n",
       "      <td>160221</td>\n",
       "      <td>2024</td>\n",
       "      <td>10</td>\n",
       "    </tr>\n",
       "    <tr>\n",
       "      <th>2512</th>\n",
       "      <td>1252555617</td>\n",
       "      <td>2024-10-21 21:44:52+00:00</td>\n",
       "      <td>Tim O'Doherty</td>\n",
       "      <td>42923857</td>\n",
       "      <td>Undo</td>\n",
       "      <td>160229</td>\n",
       "      <td>2024</td>\n",
       "      <td>10</td>\n",
       "    </tr>\n",
       "    <tr>\n",
       "      <th>2507</th>\n",
       "      <td>1252459885</td>\n",
       "      <td>2024-10-21 13:09:08+00:00</td>\n",
       "      <td>Wabbuh</td>\n",
       "      <td>48227547</td>\n",
       "      <td>None</td>\n",
       "      <td>160251</td>\n",
       "      <td>2024</td>\n",
       "      <td>10</td>\n",
       "    </tr>\n",
       "    <tr>\n",
       "      <th>2511</th>\n",
       "      <td>1252007563</td>\n",
       "      <td>2024-10-19 08:12:14+00:00</td>\n",
       "      <td>UndercoverClassicist</td>\n",
       "      <td>44786610</td>\n",
       "      <td>cosmetic lint-y change (template to plaintext ...</td>\n",
       "      <td>160229</td>\n",
       "      <td>2024</td>\n",
       "      <td>10</td>\n",
       "    </tr>\n",
       "  </tbody>\n",
       "</table>\n",
       "</div>"
      ],
      "text/plain": [
       "     revision_id                 timestamp              username    userid  \\\n",
       "2522  1253353646 2024-10-25 14:54:55+00:00               Rfl0216  27738727   \n",
       "2508  1253353474 2024-10-25 14:53:59+00:00               Rfl0216  27738727   \n",
       "2512  1252555617 2024-10-21 21:44:52+00:00         Tim O'Doherty  42923857   \n",
       "2507  1252459885 2024-10-21 13:09:08+00:00                Wabbuh  48227547   \n",
       "2511  1252007563 2024-10-19 08:12:14+00:00  UndercoverClassicist  44786610   \n",
       "\n",
       "                                                comment  text_length  year  \\\n",
       "2522                                         /* News */       160213  2024   \n",
       "2508                                         /* News */       160221  2024   \n",
       "2512                                               Undo       160229  2024   \n",
       "2507                                               None       160251  2024   \n",
       "2511  cosmetic lint-y change (template to plaintext ...       160229  2024   \n",
       "\n",
       "     month  \n",
       "2522    10  \n",
       "2508    10  \n",
       "2512    10  \n",
       "2507    10  \n",
       "2511    10  "
      ]
     },
     "execution_count": 9,
     "metadata": {},
     "output_type": "execute_result"
    }
   ],
   "source": [
    "liz.head()"
   ]
  },
  {
   "cell_type": "code",
   "execution_count": 10,
   "metadata": {},
   "outputs": [],
   "source": [
    "liz_daily = liz.groupby(liz['timestamp'].dt.date).size()"
   ]
  },
  {
   "cell_type": "code",
   "execution_count": 11,
   "metadata": {},
   "outputs": [],
   "source": [
    "import matplotlib.pyplot as plt"
   ]
  },
  {
   "cell_type": "code",
   "execution_count": 12,
   "metadata": {},
   "outputs": [
    {
     "data": {
      "text/plain": [
       "<Axes: xlabel='timestamp'>"
      ]
     },
     "execution_count": 12,
     "metadata": {},
     "output_type": "execute_result"
    },
    {
     "data": {
      "image/png": "[encoded data removed]",
      "text/plain": [
       "<Figure size 640x480 with 1 Axes>"
      ]
     },
     "metadata": {},
     "output_type": "display_data"
    }
   ],
   "source": [
    "# Plot liz_daily as a scatter\n",
    "liz_daily.plot()"
   ]
  },
  {
   "cell_type": "code",
   "execution_count": null,
   "metadata": {},
   "outputs": [],
   "source": []
  }
 ],
 "metadata": {
  "kernelspec": {
   "display_name": "venv",
   "language": "python",
   "name": "python3"
  },
  "language_info": {
   "codemirror_mode": {
    "name": "ipython",
    "version": 3
   },
   "file_extension": ".py",
   "mimetype": "text/x-python",
   "name": "python",
   "nbconvert_exporter": "python",
   "pygments_lexer": "ipython3",
   "version": "3.11.7"
  }
 },
 "nbformat": 4,
 "nbformat_minor": 2
}
